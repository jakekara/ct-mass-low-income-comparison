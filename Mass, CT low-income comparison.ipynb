{
 "cells": [
  {
   "cell_type": "code",
   "execution_count": 1,
   "metadata": {
    "collapsed": true
   },
   "outputs": [],
   "source": [
    "import pandas as pd\n",
    "import numpy as np"
   ]
  },
  {
   "cell_type": "code",
   "execution_count": 4,
   "metadata": {
    "collapsed": false
   },
   "outputs": [
    {
     "name": "stdout",
     "output_type": "stream",
     "text": [
      "NaN                                                 2015\n",
      "NaN                                                 2015\n",
      "NaN                                                 2015\n",
      "NaN                                                 2013\n",
      "NaN                                                 2013\n",
      "NaN                                                 2013\n",
      "NaN                                                 2011\n",
      "NaN                                                 2011\n",
      "NaN                                                 2011\n",
      "NaN                                                 2009\n",
      "NaN                                                 2009\n",
      "NaN                                                 2009\n",
      "NaN                                                 2007\n",
      "NaN                                                 2007\n",
      "NaN                                                 2007\n",
      "NaN                                                 2005\n",
      "NaN                                                 2005\n",
      "NaN                                                 2005\n",
      "NaN                                                 2003\n",
      "NaN                                                 2003\n",
      "NaN                                                 2003\n",
      "NaN                                                 2002\n",
      "NaN                                                 2002\n",
      "NaN                                                 2002\n",
      "NaN                                                 2000\n",
      "NaN                                                 2000\n",
      "NaN                                                 2000\n",
      "NaN                                                2000¹\n",
      "NaN                                                2000¹\n",
      "NaN                                                2000¹\n",
      "NaN                                                 1998\n",
      "NaN                                                 1998\n",
      "NaN                                                 1998\n",
      "NaN                                                1998¹\n",
      "NaN                                                1998¹\n",
      "NaN                                                1998¹\n",
      "NaN                                                1994¹\n",
      "NaN                                                1994¹\n",
      "NaN                                                1994¹\n",
      "NaN                                                1992¹\n",
      "NaN                                                1992¹\n",
      "NaN                                                1992¹\n",
      "NaN                                                1992¹\n",
      "NaN                                     — Not available.\n",
      "NaN                                    † Not applicable.\n",
      "NaN                       ‡ Reporting standards not met.\n",
      "NaN    ¹ Accommodations were not permitted for this a...\n",
      "NaN    NOTE: The NAEP Reading scale ranges from 0 to ...\n",
      "NaN    SOURCE: U.S. Department of Education, Institut...\n",
      "Name: (, Year), dtype: object\n"
     ]
    },
    {
     "data": {
      "text/html": [
       "<div>\n",
       "<table border=\"1\" class=\"dataframe\">\n",
       "  <thead>\n",
       "    <tr>\n",
       "      <th></th>\n",
       "      <th colspan=\"3\" halign=\"left\">Eligible Average scale score</th>\n",
       "      <th colspan=\"3\" halign=\"left\">Not eligible Average scale score</th>\n",
       "      <th>subject</th>\n",
       "      <th>grade</th>\n",
       "    </tr>\n",
       "    <tr>\n",
       "      <th>Jurisdiction</th>\n",
       "      <th>Connecticut</th>\n",
       "      <th>Massachusetts</th>\n",
       "      <th>National</th>\n",
       "      <th>Connecticut</th>\n",
       "      <th>Massachusetts</th>\n",
       "      <th>National</th>\n",
       "      <th></th>\n",
       "      <th></th>\n",
       "    </tr>\n",
       "    <tr>\n",
       "      <th>Year</th>\n",
       "      <th></th>\n",
       "      <th></th>\n",
       "      <th></th>\n",
       "      <th></th>\n",
       "      <th></th>\n",
       "      <th></th>\n",
       "      <th></th>\n",
       "      <th></th>\n",
       "    </tr>\n",
       "  </thead>\n",
       "  <tbody>\n",
       "    <tr>\n",
       "      <th>2015</th>\n",
       "      <td>208.995502</td>\n",
       "      <td>219.659334</td>\n",
       "      <td>209.258765</td>\n",
       "      <td>240.143237</td>\n",
       "      <td>246.736509</td>\n",
       "      <td>236.858798</td>\n",
       "      <td>reading</td>\n",
       "      <td>4</td>\n",
       "    </tr>\n",
       "    <tr>\n",
       "      <th>2013</th>\n",
       "      <td>209.802332</td>\n",
       "      <td>213.332436</td>\n",
       "      <td>207.464591</td>\n",
       "      <td>241.845034</td>\n",
       "      <td>244.775365</td>\n",
       "      <td>236.128980</td>\n",
       "      <td>reading</td>\n",
       "      <td>4</td>\n",
       "    </tr>\n",
       "    <tr>\n",
       "      <th>2011</th>\n",
       "      <td>205.245963</td>\n",
       "      <td>218.483897</td>\n",
       "      <td>206.871771</td>\n",
       "      <td>240.576557</td>\n",
       "      <td>245.881441</td>\n",
       "      <td>234.588460</td>\n",
       "      <td>reading</td>\n",
       "      <td>4</td>\n",
       "    </tr>\n",
       "    <tr>\n",
       "      <th>2009</th>\n",
       "      <td>207.442969</td>\n",
       "      <td>214.935868</td>\n",
       "      <td>206.022551</td>\n",
       "      <td>237.916422</td>\n",
       "      <td>243.028334</td>\n",
       "      <td>232.218003</td>\n",
       "      <td>reading</td>\n",
       "      <td>4</td>\n",
       "    </tr>\n",
       "    <tr>\n",
       "      <th>2007</th>\n",
       "      <td>200.675301</td>\n",
       "      <td>214.397741</td>\n",
       "      <td>205.022471</td>\n",
       "      <td>238.516384</td>\n",
       "      <td>243.487668</td>\n",
       "      <td>232.024429</td>\n",
       "      <td>reading</td>\n",
       "      <td>4</td>\n",
       "    </tr>\n",
       "    <tr>\n",
       "      <th>2005</th>\n",
       "      <td>202.240069</td>\n",
       "      <td>210.502145</td>\n",
       "      <td>202.861465</td>\n",
       "      <td>234.836036</td>\n",
       "      <td>238.945929</td>\n",
       "      <td>230.043418</td>\n",
       "      <td>reading</td>\n",
       "      <td>4</td>\n",
       "    </tr>\n",
       "    <tr>\n",
       "      <th>2003</th>\n",
       "      <td>205.433871</td>\n",
       "      <td>209.783172</td>\n",
       "      <td>201.271359</td>\n",
       "      <td>238.324874</td>\n",
       "      <td>236.251899</td>\n",
       "      <td>229.401499</td>\n",
       "      <td>reading</td>\n",
       "      <td>4</td>\n",
       "    </tr>\n",
       "    <tr>\n",
       "      <th>2002</th>\n",
       "      <td>209.355976</td>\n",
       "      <td>214.861224</td>\n",
       "      <td>202.860216</td>\n",
       "      <td>236.967441</td>\n",
       "      <td>241.017482</td>\n",
       "      <td>229.619160</td>\n",
       "      <td>reading</td>\n",
       "      <td>4</td>\n",
       "    </tr>\n",
       "    <tr>\n",
       "      <th>2000¹</th>\n",
       "      <td>NaN</td>\n",
       "      <td>NaN</td>\n",
       "      <td>195.657856</td>\n",
       "      <td>NaN</td>\n",
       "      <td>NaN</td>\n",
       "      <td>227.408302</td>\n",
       "      <td>reading</td>\n",
       "      <td>4</td>\n",
       "    </tr>\n",
       "    <tr>\n",
       "      <th>2000</th>\n",
       "      <td>NaN</td>\n",
       "      <td>NaN</td>\n",
       "      <td>192.526546</td>\n",
       "      <td>NaN</td>\n",
       "      <td>NaN</td>\n",
       "      <td>226.158946</td>\n",
       "      <td>reading</td>\n",
       "      <td>4</td>\n",
       "    </tr>\n",
       "    <tr>\n",
       "      <th>1998¹</th>\n",
       "      <td>205.131305</td>\n",
       "      <td>205.285740</td>\n",
       "      <td>198.315226</td>\n",
       "      <td>239.985449</td>\n",
       "      <td>233.352477</td>\n",
       "      <td>227.498641</td>\n",
       "      <td>reading</td>\n",
       "      <td>4</td>\n",
       "    </tr>\n",
       "    <tr>\n",
       "      <th>1998</th>\n",
       "      <td>202.565062</td>\n",
       "      <td>202.589526</td>\n",
       "      <td>195.647965</td>\n",
       "      <td>237.956046</td>\n",
       "      <td>230.450744</td>\n",
       "      <td>226.996537</td>\n",
       "      <td>reading</td>\n",
       "      <td>4</td>\n",
       "    </tr>\n",
       "  </tbody>\n",
       "</table>\n",
       "</div>"
      ],
      "text/plain": [
       "             Eligible Average scale score                            \\\n",
       "Jurisdiction                  Connecticut Massachusetts    National   \n",
       "Year                                                                  \n",
       "2015                           208.995502    219.659334  209.258765   \n",
       "2013                           209.802332    213.332436  207.464591   \n",
       "2011                           205.245963    218.483897  206.871771   \n",
       "2009                           207.442969    214.935868  206.022551   \n",
       "2007                           200.675301    214.397741  205.022471   \n",
       "2005                           202.240069    210.502145  202.861465   \n",
       "2003                           205.433871    209.783172  201.271359   \n",
       "2002                           209.355976    214.861224  202.860216   \n",
       "2000¹                                 NaN           NaN  195.657856   \n",
       "2000                                  NaN           NaN  192.526546   \n",
       "1998¹                          205.131305    205.285740  198.315226   \n",
       "1998                           202.565062    202.589526  195.647965   \n",
       "\n",
       "             Not eligible Average scale score                            \\\n",
       "Jurisdiction                      Connecticut Massachusetts    National   \n",
       "Year                                                                      \n",
       "2015                               240.143237    246.736509  236.858798   \n",
       "2013                               241.845034    244.775365  236.128980   \n",
       "2011                               240.576557    245.881441  234.588460   \n",
       "2009                               237.916422    243.028334  232.218003   \n",
       "2007                               238.516384    243.487668  232.024429   \n",
       "2005                               234.836036    238.945929  230.043418   \n",
       "2003                               238.324874    236.251899  229.401499   \n",
       "2002                               236.967441    241.017482  229.619160   \n",
       "2000¹                                     NaN           NaN  227.408302   \n",
       "2000                                      NaN           NaN  226.158946   \n",
       "1998¹                              239.985449    233.352477  227.498641   \n",
       "1998                               237.956046    230.450744  226.996537   \n",
       "\n",
       "              subject grade  \n",
       "Jurisdiction                 \n",
       "Year                         \n",
       "2015          reading     4  \n",
       "2013          reading     4  \n",
       "2011          reading     4  \n",
       "2009          reading     4  \n",
       "2007          reading     4  \n",
       "2005          reading     4  \n",
       "2003          reading     4  \n",
       "2002          reading     4  \n",
       "2000¹         reading     4  \n",
       "2000          reading     4  \n",
       "1998¹         reading     4  \n",
       "1998          reading     4  "
      ]
     },
     "execution_count": 4,
     "metadata": {},
     "output_type": "execute_result"
    }
   ],
   "source": [
    "def get_data(grade, subject):\n",
    "    ret = pd.read_excel(\n",
    "        \"data/\"+str(grade)+\"th grade \"+subject+\".xls\",\n",
    "        header=[0,1], skiprows=10)\n",
    "    \n",
    "    for i, col in enumerate(ret.columns.levels):\n",
    "        columns = np.where(col.str.contains('Unnamed'), '', col)\n",
    "        ret.columns.set_levels(columns, level=i, inplace=True)\n",
    "\n",
    "    ret[\"\",\"Year\"] = ret[\"\",\"Year\"].fillna(method=\"ffill\")\n",
    "    \n",
    "        \n",
    "    flat_columns = []\n",
    "    for col in ret.columns:\n",
    "        flat_columns.append((col[0] + \" \" + col[1]).strip())\n",
    "        \n",
    "    ret.columns = flat_columns\n",
    "    \n",
    "    for c in ret.columns[2:]:\n",
    "        ret[c] = pd.to_numeric(ret[c],errors=\"coerce\")\n",
    "    \n",
    "    ret = ret.dropna(thresh = 4)\n",
    "    \n",
    "    left = pd.pivot_table(ret,index=[\"Year\"],\n",
    "                        values=[\"Eligible Average scale score\"],\n",
    "                        columns=[\"Jurisdiction\"])\n",
    "\n",
    "    right = pd.pivot_table(ret,index=[\"Year\"],\n",
    "                        values=[\"Not eligible Average scale score\"],\n",
    "                        columns=[\"Jurisdiction\"])\n",
    "    \n",
    "    ret = left.join(right)a\n",
    "    \n",
    "    ret[\"subject\"] = subject\n",
    "    ret[\"grade\"] = grade\n",
    "\n",
    "        \n",
    "    return ret\n",
    "\n",
    "\n",
    "get_data(4,\"reading\").sort_index(ascending=False)"
   ]
  },
  {
   "cell_type": "code",
   "execution_count": null,
   "metadata": {
    "collapsed": true
   },
   "outputs": [],
   "source": []
  },
  {
   "cell_type": "code",
   "execution_count": 5,
   "metadata": {
    "collapsed": false
   },
   "outputs": [
    {
     "name": "stderr",
     "output_type": "stream",
     "text": [
      "\n",
      "Bad key \"axes.Axes.margins\" on line 38 in\n",
      "/Users/jakekara/.matplotlib/stylelib/mirror00.mplstyle.\n",
      "You probably need to get an updated matplotlibrc file from\n",
      "http://github.com/matplotlib/matplotlib/blob/master/matplotlibrc.template\n",
      "or from the matplotlib source distribution\n"
     ]
    }
   ],
   "source": [
    "import matplotlib\n",
    "#matplotlib.use( \"agg\" )\n",
    "# matplotlib.use( \"macosx\" )\n",
    "\n",
    "%matplotlib inline\n",
    "# matplotlib.style.use('ggplot')\n",
    "matplotlib.style.use('mirror00')\n",
    "import matplotlib.pyplot as plt"
   ]
  },
  {
   "cell_type": "code",
   "execution_count": 4,
   "metadata": {
    "collapsed": false
   },
   "outputs": [
    {
     "name": "stdout",
     "output_type": "stream",
     "text": [
      "MultiIndex(levels=[[u'Eligible Average scale score', u'Not eligible Average scale score', u'subject', u'grade'], [u'Connecticut', u'Massachusetts', u'National', u'']],\n",
      "           labels=[[0, 0, 0, 1, 1, 1, 2, 3], [0, 1, 2, 0, 1, 2, 3, 3]],\n",
      "           names=[None, u'Jurisdiction'])\n"
     ]
    },
    {
     "data": {
      "text/plain": [
       "<matplotlib.axes._subplots.AxesSubplot at 0x10906aed0>"
      ]
     },
     "execution_count": 4,
     "metadata": {},
     "output_type": "execute_result"
    },
    {
     "data": {
      "image/png": "[encoded data removed]",
      "text/plain": [
       "<matplotlib.figure.Figure at 0x10906a510>"
      ]
     },
     "metadata": {},
     "output_type": "display_data"
    }
   ],
   "source": [
    "def make_chart(df,col='Eligible Average scale score'):\n",
    "    print df.columns\n",
    "    ax = df[col].plot()\n",
    "    #ax.set_ylim(ymin=0)\n",
    "    \n",
    "    grade = df[\"grade\"][0]\n",
    "    subject = df[\"subject\"][0]\n",
    "    \n",
    "    ax.set_title(str(grade) + \"th grade \" + subject)    \n",
    "    fname = \"img/\"+str(grade)+ \"th grade \" + str(subject) + \".png\"\n",
    "    svgname = \"img/\"+str(grade)+ \"th grade \" + str(subject) + \".svg\"\n",
    "    ax.set_xlabel(\"\")\n",
    "    ax.set_ylabel(\"\")\n",
    "    \n",
    "#     plt.legend(bbox_to_anchor=(0.5,0.5),bbox_transform=plt.gcf().transFigure)\n",
    "    lgd = ax.legend(bbox_to_anchor=(1.05, 1), loc=2, borderaxespad=0.)\n",
    "\n",
    "    plt.tight_layout()\n",
    "    \n",
    "    \n",
    "    plt.savefig(fname,bbox_extra_artists=(lgd,),bbox_inches=\"tight\")\n",
    "    plt.savefig(svgname,bbox_extra_artists=(lgd,),bbox_inches=\"tight\")\n",
    "    \n",
    "    return ax\n",
    "    \n",
    "make_chart(get_data(8,\"math\"))"
   ]
  },
  {
   "cell_type": "code",
   "execution_count": 5,
   "metadata": {
    "collapsed": false
   },
   "outputs": [
    {
     "data": {
      "text/plain": [
       "3"
      ]
     },
     "execution_count": 5,
     "metadata": {},
     "output_type": "execute_result"
    }
   ],
   "source": [
    "np.max([1,2,3])"
   ]
  },
  {
   "cell_type": "code",
   "execution_count": 6,
   "metadata": {
    "collapsed": false
   },
   "outputs": [
    {
     "name": "stdout",
     "output_type": "stream",
     "text": [
      "MultiIndex(levels=[[u'Eligible Average scale score', u'Not eligible Average scale score', u'subject', u'grade'], [u'Connecticut', u'Massachusetts', u'National', u'']],\n",
      "           labels=[[0, 0, 0, 1, 1, 1, 2, 3], [0, 1, 2, 0, 1, 2, 3, 3]],\n",
      "           names=[None, u'Jurisdiction'])\n"
     ]
    },
    {
     "data": {
      "image/png": "[encoded data removed]",
      "text/plain": [
       "<matplotlib.figure.Figure at 0x109043d10>"
      ]
     },
     "metadata": {},
     "output_type": "display_data"
    }
   ],
   "source": [
    "def line_last_x(line):    \n",
    "    return line.get_xdata()[-1]\n",
    "\n",
    "def line_max(line):\n",
    "    i = 0;\n",
    "    y = None\n",
    "    x = None\n",
    "    for v in np.array(line.get_ydata()):\n",
    "        if np.isnan(v):\n",
    "            continue\n",
    "        if y is None or y < v:\n",
    "            y = v\n",
    "            x = line.get_xdata()[i]\n",
    "        i+=1\n",
    "    return (x, y)\n",
    "    \n",
    "def line_last_y(line):\n",
    "    ret = filter(lambda x: not np.isnan(x), np.array(line.get_ydata()))[-1]\n",
    "    return ret\n",
    "\n",
    "def line_max_y(line):\n",
    "    \n",
    "    return np.max(\n",
    "        lambda x: not np.isnan(x),\n",
    "        np.array(line.get_ydata()))\n",
    "\n",
    "def line_min_y(line):\n",
    "    return np.min(line.get_ydata())\n",
    "    \n",
    "def line_label(line):\n",
    "    return line.get_label()\n",
    "\n",
    "def no_legend(ax,how=\"label_right\"):\n",
    "    \n",
    "    ax.legend_.remove()\n",
    "    \n",
    "    for line in ax.lines:\n",
    "        line_label(line)\n",
    "\n",
    "        line_last_x(line)\n",
    "        line_last_y(line)\n",
    "        \n",
    "        #line.set_color(\"gray\")\n",
    "\n",
    "        if how == \"label_right\":\n",
    "            x = line_last_x(line)\n",
    "            y = line_last_y(line)\n",
    "            ax.text(x, y,\n",
    "                    line_label(line),\n",
    "                    verticalalignment = \"center\")\n",
    "    \n",
    "#         if True is True:\n",
    "# #         if how == \"annotate_highest\":\n",
    "#             ax.annotate(line_label(line), \n",
    "#                         xy=line_max(line),\n",
    "#     #                     xy=(10, line_last_y(line)),\n",
    "#                         arrowprops=dict(facecolor='black',\n",
    "#                                         arrowstyle=\"-\"),\n",
    "#                                         verticalalignment='center')\n",
    "        #plt.show()\n",
    "        \n",
    "#         if True is True:\n",
    "#             ax.annotate(line_label(line), \n",
    "#                         xy=line_max(line),\n",
    "#                         xytext=(10, line_last_y(line)),\n",
    "#                         arrowprops=dict(facecolor='black',\n",
    "#                                         arrowstyle=\"-\"),\n",
    "#                                         verticalalignment='center')\n",
    "\n",
    " \n",
    "no_legend(make_chart(get_data(8,\"math\")))"
   ]
  },
  {
   "cell_type": "code",
   "execution_count": 7,
   "metadata": {
    "collapsed": false,
    "scrolled": true
   },
   "outputs": [
    {
     "name": "stdout",
     "output_type": "stream",
     "text": [
      "MultiIndex(levels=[[u'Eligible Average scale score', u'Not eligible Average scale score', u'subject', u'grade'], [u'Connecticut', u'Massachusetts', u'National', u'']],\n",
      "           labels=[[0, 0, 0, 1, 1, 1, 2, 3], [0, 1, 2, 0, 1, 2, 3, 3]],\n",
      "           names=[None, u'Jurisdiction'])\n",
      "MultiIndex(levels=[[u'Eligible Average scale score', u'Not eligible Average scale score', u'subject', u'grade'], [u'Connecticut', u'Massachusetts', u'National', u'']],\n",
      "           labels=[[0, 0, 0, 1, 1, 1, 2, 3], [0, 1, 2, 0, 1, 2, 3, 3]],\n",
      "           names=[None, u'Jurisdiction'])\n",
      "MultiIndex(levels=[[u'Eligible Average scale score', u'Not eligible Average scale score', u'subject', u'grade'], [u'Connecticut', u'Massachusetts', u'National', u'']],\n",
      "           labels=[[0, 0, 0, 1, 1, 1, 2, 3], [0, 1, 2, 0, 1, 2, 3, 3]],\n",
      "           names=[None, u'Jurisdiction'])\n",
      "MultiIndex(levels=[[u'Eligible Average scale score', u'Not eligible Average scale score', u'subject', u'grade'], [u'Connecticut', u'Massachusetts', u'National', u'']],\n",
      "           labels=[[0, 0, 0, 1, 1, 1, 2, 3], [0, 1, 2, 0, 1, 2, 3, 3]],\n",
      "           names=[None, u'Jurisdiction'])\n",
      "MultiIndex(levels=[[u'Eligible Average scale score', u'Not eligible Average scale score', u'subject', u'grade'], [u'Connecticut', u'Massachusetts', u'National', u'']],\n",
      "           labels=[[0, 0, 0, 1, 1, 1, 2, 3], [0, 1, 2, 0, 1, 2, 3, 3]],\n",
      "           names=[None, u'Jurisdiction'])\n",
      "MultiIndex(levels=[[u'Eligible Average scale score', u'Not eligible Average scale score', u'subject', u'grade'], [u'Connecticut', u'Massachusetts', u'National', u'']],\n",
      "           labels=[[0, 0, 0, 1, 1, 1, 2, 3], [0, 1, 2, 0, 1, 2, 3, 3]],\n",
      "           names=[None, u'Jurisdiction'])\n"
     ]
    },
    {
     "data": {
      "image/png": "[encoded data removed]",
      "text/plain": [
       "<matplotlib.figure.Figure at 0x1096bb290>"
      ]
     },
     "metadata": {},
     "output_type": "display_data"
    }
   ],
   "source": [
    "def make_all_charts():\n",
    "    for grade in [4,8,12]:\n",
    "        for subject in [\"math\",\"reading\"]:\n",
    "            plt.close()\n",
    "            no_legend(make_chart(get_data(grade, subject)))\n",
    "            \n",
    "make_all_charts()"
   ]
  },
  {
   "cell_type": "code",
   "execution_count": null,
   "metadata": {
    "collapsed": true
   },
   "outputs": [],
   "source": []
  },
  {
   "cell_type": "code",
   "execution_count": null,
   "metadata": {
    "collapsed": true
   },
   "outputs": [],
   "source": []
  },
  {
   "cell_type": "code",
   "execution_count": null,
   "metadata": {
    "collapsed": true
   },
   "outputs": [],
   "source": []
  },
  {
   "cell_type": "markdown",
   "metadata": {
    "collapsed": true
   },
   "source": [
    "### "
   ]
  }
 ],
 "metadata": {
  "kernelspec": {
   "display_name": "Python 2",
   "language": "python",
   "name": "python2"
  },
  "language_info": {
   "codemirror_mode": {
    "name": "ipython",
    "version": 2
   },
   "file_extension": ".py",
   "mimetype": "text/x-python",
   "name": "python",
   "nbconvert_exporter": "python",
   "pygments_lexer": "ipython2",
   "version": "2.7.13"
  }
 },
 "nbformat": 4,
 "nbformat_minor": 0
}
