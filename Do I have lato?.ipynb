{
 "cells": [
  {
   "cell_type": "code",
   "execution_count": 1,
   "metadata": {
    "collapsed": false
   },
   "outputs": [],
   "source": [
    "# Do I have Lato?\n",
    "import matplotlib\n",
    "# matplotlib.use( \"agg\" )\n",
    "# matplotlib.use( \"macosx\" )\n",
    "\n",
    "%matplotlib inline\n",
    "matplotlib.style.use('ggplot')\n",
    "matplotlib.style.use('mirror00')\n",
    "import matplotlib.pyplot as plt"
   ]
  },
  {
   "cell_type": "code",
   "execution_count": 2,
   "metadata": {
    "collapsed": false
   },
   "outputs": [
    {
     "data": {
      "text/plain": [
       "'2.0.2'"
      ]
     },
     "execution_count": 2,
     "metadata": {},
     "output_type": "execute_result"
    }
   ],
   "source": [
    "matplotlib.__version__"
   ]
  },
  {
   "cell_type": "code",
   "execution_count": 3,
   "metadata": {
    "collapsed": false
   },
   "outputs": [
    {
     "name": "stdout",
     "output_type": "stream",
     "text": [
      "weight       file name \n",
      "----------------------------------------------------------------------\n",
      "ultralight   /Users/jakekara/Library/Fonts/Lato/thin/Lato-Light.ttf\n",
      "light        /Users/jakekara/Library/Fonts/Lato/thin/Lato-Light.ttf\n",
      "normal       /Users/jakekara/Library/Fonts/Lato/regular/Lato-Regular.ttf\n",
      "regular      /Users/jakekara/Library/Fonts/Lato/regular/Lato-Regular.ttf\n",
      "book         /Users/jakekara/Library/Fonts/Lato/regular/Lato-Regular.ttf\n",
      "medium       /Users/jakekara/Library/Fonts/Lato/thin/Lato-Medium.ttf\n",
      "roman        /Users/jakekara/Library/Fonts/Lato/thin/Lato-Medium.ttf\n",
      "semibold     /Users/jakekara/Library/Fonts/Lato/thin/Lato-Medium.ttf\n",
      "demibold     /Users/jakekara/Library/Fonts/Lato/thin/Lato-Medium.ttf\n",
      "demi         /Users/jakekara/Library/Fonts/Lato/thin/Lato-Medium.ttf\n",
      "bold         /Users/jakekara/Library/Fonts/Lato/thin/Lato-Semibold.ttf\n",
      "heavy        /Users/jakekara/Library/Fonts/Lato/heavy/Lato-Heavy.ttf\n",
      "extra bold   /Users/jakekara/Library/Fonts/Lato/heavy/Lato-Heavy.ttf\n",
      "black        /Users/jakekara/Library/Fonts/Lato/heavy/Lato-Black.ttf\n",
      "normal       /Users/jakekara/Library/Fonts/Lato/regular/Lato-Regular.ttf\n"
     ]
    }
   ],
   "source": [
    "import matplotlib.font_manager\n",
    "\n",
    "weights = ['ultralight', 'light', 'normal', 'regular', 'book', 'medium', \n",
    "           'roman', 'semibold', 'demibold', 'demi', 'bold', 'heavy', \n",
    "           'extra bold', 'black','normal']\n",
    "\n",
    "print 'weight'+6*' ', 'file name', '\\n'+70*'-'\n",
    "for weight in weights:\n",
    "    fprops = matplotlib.font_manager.FontProperties(family='Lato', \n",
    "                                                    weight=weight)\n",
    "    print weight+(12-len(weight))*' ', matplotlib.font_manager.findfont(fprops)\n"
   ]
  },
  {
   "cell_type": "code",
   "execution_count": 4,
   "metadata": {
    "collapsed": false
   },
   "outputs": [
    {
     "data": {
      "text/plain": [
       "u'/Users/jakekara/.matplotlib'"
      ]
     },
     "execution_count": 4,
     "metadata": {},
     "output_type": "execute_result"
    }
   ],
   "source": [
    "matplotlib.get_configdir()"
   ]
  },
  {
   "cell_type": "code",
   "execution_count": null,
   "metadata": {
    "collapsed": true
   },
   "outputs": [],
   "source": []
  }
 ],
 "metadata": {
  "kernelspec": {
   "display_name": "Python 2",
   "language": "python",
   "name": "python2"
  },
  "language_info": {
   "codemirror_mode": {
    "name": "ipython",
    "version": 2
   },
   "file_extension": ".py",
   "mimetype": "text/x-python",
   "name": "python",
   "nbconvert_exporter": "python",
   "pygments_lexer": "ipython2",
   "version": "2.7.13"
  }
 },
 "nbformat": 4,
 "nbformat_minor": 0
}
